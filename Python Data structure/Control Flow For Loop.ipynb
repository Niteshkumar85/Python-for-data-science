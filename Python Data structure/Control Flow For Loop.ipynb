{
 "cells": [
  {
   "cell_type": "markdown",
   "metadata": {},
   "source": [
    "# Python For Loop\n",
    "\n",
    "    - For loop is an unother type of loop in python is used to iterate over the sequwnce ( list , tuples , strings ) and other type of an object\n",
    "    \n",
    "   # Syntax :\n",
    "   \n",
    "      \n",
    "       for elements on the sequence:\n",
    "           body of the loop"
   ]
  },
  {
   "cell_type": "code",
   "execution_count": 4,
   "metadata": {},
   "outputs": [
    {
     "name": "stdout",
     "output_type": "stream",
     "text": [
      "product of list [10, 20, 30, 40, 50, 60] is :- 720000000\n"
     ]
    }
   ],
   "source": [
    "v = [10 , 20 , 30 , 40 , 50 , 60]\n",
    "\n",
    "p = 1\n",
    "\n",
    "for i in v:\n",
    "    p = p * i\n",
    "    \n",
    "print(\"product of list {} is :- {}\" . format(v,p))"
   ]
  },
  {
   "cell_type": "markdown",
   "metadata": {},
   "source": [
    "# range() function \n",
    "\n",
    "\n",
    "    we can generate the sequence of number using range() funtion"
   ]
  },
  {
   "cell_type": "code",
   "execution_count": 2,
   "metadata": {},
   "outputs": [
    {
     "name": "stdout",
     "output_type": "stream",
     "text": [
      "0\n",
      "1\n",
      "2\n",
      "3\n",
      "4\n",
      "5\n",
      "6\n",
      "7\n",
      "8\n",
      "9\n",
      "10\n",
      "11\n",
      "12\n",
      "13\n",
      "14\n",
      "15\n",
      "16\n",
      "17\n",
      "18\n",
      "19\n",
      "20\n",
      "21\n",
      "22\n",
      "23\n",
      "24\n",
      "25\n",
      "26\n",
      "27\n",
      "28\n",
      "29\n",
      "30\n",
      "31\n",
      "32\n",
      "33\n",
      "34\n",
      "35\n",
      "36\n",
      "37\n",
      "38\n",
      "39\n",
      "40\n",
      "41\n",
      "42\n",
      "43\n",
      "44\n",
      "45\n",
      "46\n",
      "47\n",
      "48\n",
      "49\n",
      "50\n",
      "51\n",
      "52\n",
      "53\n",
      "54\n",
      "55\n",
      "56\n",
      "57\n",
      "58\n",
      "59\n",
      "60\n",
      "61\n",
      "62\n",
      "63\n",
      "64\n",
      "65\n",
      "66\n",
      "67\n",
      "68\n",
      "69\n",
      "70\n",
      "71\n",
      "72\n",
      "73\n",
      "74\n",
      "75\n",
      "76\n",
      "77\n",
      "78\n",
      "79\n",
      "80\n",
      "81\n",
      "82\n",
      "83\n",
      "84\n",
      "85\n",
      "86\n",
      "87\n",
      "88\n",
      "89\n",
      "90\n",
      "91\n",
      "92\n",
      "93\n",
      "94\n",
      "95\n",
      "96\n",
      "97\n",
      "98\n",
      "99\n"
     ]
    }
   ],
   "source": [
    "for i in range(100):   # It will print the number from 1 to 10\n",
    "    print(i)\n",
    "    \n",
    "# this way the range funtion is used in python\n"
   ]
  },
  {
   "cell_type": "code",
   "execution_count": 3,
   "metadata": {},
   "outputs": [
    {
     "name": "stdout",
     "output_type": "stream",
     "text": [
      "1\n",
      "3\n",
      "5\n",
      "7\n",
      "9\n",
      "11\n",
      "13\n",
      "15\n",
      "17\n",
      "19\n"
     ]
    }
   ],
   "source": [
    "# Print the number from 1 to 20 with a step size of 2\n",
    "for i in range(1 , 20 , 2):\n",
    "    print(i)"
   ]
  },
  {
   "cell_type": "code",
   "execution_count": 6,
   "metadata": {},
   "outputs": [
    {
     "name": "stdout",
     "output_type": "stream",
     "text": [
      "sachin\n",
      "shubham\n",
      "shyam\n",
      "rahul\n",
      "naveen\n"
     ]
    }
   ],
   "source": [
    "l = [\"sachin\" , \"shubham\" , \"shyam\" , \"rahul\" , \"naveen\"]\n",
    "\n",
    "for i in l:\n",
    "    print(i)"
   ]
  },
  {
   "cell_type": "markdown",
   "metadata": {},
   "source": [
    "# Python program to display all prime number within an interwal"
   ]
  },
  {
   "cell_type": "code",
   "execution_count": 3,
   "metadata": {},
   "outputs": [
    {
     "name": "stdout",
     "output_type": "stream",
     "text": [
      "Enter the number of your choice : 10\n",
      "Enter the number of your choice : 50\n",
      "\n",
      "the number you entered are 10 and 50\n",
      "\n",
      " the prime number from 10 to 50 is :\n",
      "11\n",
      "13\n",
      "17\n",
      "19\n",
      "23\n",
      "29\n",
      "31\n",
      "37\n",
      "41\n",
      "43\n",
      "47\n"
     ]
    }
   ],
   "source": [
    "a = int(input(\"Enter the number of your choice : \"))\n",
    "b = int(input(\"Enter the number of your choice : \"))\n",
    "print(\"\\nthe number you entered are {} and {}\".format(a,b))\n",
    "print(\"\\n the prime number from {} to {} is :\".format(a,b))\n",
    "\n",
    "\n",
    "for i in range(a , b + 1):\n",
    "    if i > 1:\n",
    "        isDivisible = False\n",
    "        for j in range(2 , i):\n",
    "            if i % j == 0:\n",
    "                isDivisible = True\n",
    "        if not isDivisible:\n",
    "            print(i)\n",
    "                \n",
    "            \n",
    "            "
   ]
  },
  {
   "cell_type": "code",
   "execution_count": null,
   "metadata": {},
   "outputs": [],
   "source": []
  }
 ],
 "metadata": {
  "kernelspec": {
   "display_name": "Python 3",
   "language": "python",
   "name": "python3"
  },
  "language_info": {
   "codemirror_mode": {
    "name": "ipython",
    "version": 3
   },
   "file_extension": ".py",
   "mimetype": "text/x-python",
   "name": "python",
   "nbconvert_exporter": "python",
   "pygments_lexer": "ipython3",
   "version": "3.7.6"
  }
 },
 "nbformat": 4,
 "nbformat_minor": 4
}
