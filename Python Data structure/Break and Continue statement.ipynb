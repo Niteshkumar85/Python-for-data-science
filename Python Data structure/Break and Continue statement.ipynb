{
 "cells": [
  {
   "cell_type": "markdown",
   "metadata": {},
   "source": [
    "# Python break and continue statement\n",
    "\n",
    "    In python the brek and continue statement can allter the flow of loop"
   ]
  },
  {
   "cell_type": "code",
   "execution_count": 10,
   "metadata": {},
   "outputs": [
    {
     "name": "stdout",
     "output_type": "stream",
     "text": [
      "1\n",
      "2\n",
      "3\n",
      "you are outside from the loop\n"
     ]
    }
   ],
   "source": [
    "a = [1 , 2 , 3 , 4]\n",
    "\n",
    "for i in a:\n",
    "    if i == 4:\n",
    "        break\n",
    "    print(i)\n",
    "else:\n",
    "    print(\"you are in the loop\")\n",
    "print(\"you are outside from the loop\")"
   ]
  },
  {
   "cell_type": "markdown",
   "metadata": {},
   "source": [
    "# Python programme to check weather it is prime number or not ( by using break )"
   ]
  },
  {
   "cell_type": "code",
   "execution_count": 16,
   "metadata": {},
   "outputs": [
    {
     "name": "stdout",
     "output_type": "stream",
     "text": [
      "Enter the number : 17\n",
      "\n",
      " the number you entered are 17\n",
      "it is a prime number \n"
     ]
    }
   ],
   "source": [
    "\n",
    "i1 = int(input(\"Enter the number : \"))\n",
    "#i2 = int(input(\"Enter the number : \"))\n",
    "\n",
    "print(\"\\n the number you entered are {}\".format(i1))\n",
    "\n",
    "#print(\"\\n {} it is a prime number of :  \".format(i1))\n",
    "\n",
    "isDivisible = False\n",
    "\n",
    "i = 2\n",
    "\n",
    "while i < i1:\n",
    "    if i1 % i == 0:\n",
    "        isDivisible = True\n",
    "        print(\"{} is divisible by {} : \".format(i1 , i))\n",
    "        break\n",
    "    i += 1\n",
    "if not isDivisible:\n",
    "    print(\"it is a prime number \")\n",
    "else:\n",
    "    print(\"therefore it is noot a prime number\")\n",
    "\n",
    "\n",
    "        "
   ]
  },
  {
   "cell_type": "code",
   "execution_count": null,
   "metadata": {},
   "outputs": [],
   "source": []
  }
 ],
 "metadata": {
  "kernelspec": {
   "display_name": "Python 3",
   "language": "python",
   "name": "python3"
  },
  "language_info": {
   "codemirror_mode": {
    "name": "ipython",
    "version": 3
   },
   "file_extension": ".py",
   "mimetype": "text/x-python",
   "name": "python",
   "nbconvert_exporter": "python",
   "pygments_lexer": "ipython3",
   "version": "3.7.6"
  }
 },
 "nbformat": 4,
 "nbformat_minor": 4
}
