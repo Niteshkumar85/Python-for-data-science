{
 "cells": [
  {
   "cell_type": "markdown",
   "metadata": {},
   "source": [
    "## Python Keyword \n",
    " \n",
    " - Keywords are the reserved word in python \n",
    " - we can't use keyword as an a variable name, function name and any other identifier \n",
    " - Keyword are case sensitive"
   ]
  },
  {
   "cell_type": "code",
   "execution_count": 7,
   "metadata": {},
   "outputs": [
    {
     "name": "stdout",
     "output_type": "stream",
     "text": [
      "\n",
      " The list of all the keywords in Python are :   \t \n",
      " ['False', 'None', 'True', 'and', 'as', 'assert', 'async', 'await', 'break', 'class', 'continue', 'def', 'del', 'elif', 'else', 'except', 'finally', 'for', 'from', 'global', 'if', 'import', 'in', 'is', 'lambda', 'nonlocal', 'not', 'or', 'pass', 'raise', 'return', 'try', 'while', 'with', 'yield']\n",
      "\n",
      " The lenght of this keywords is :  \t 35\n"
     ]
    }
   ],
   "source": [
    " # Getting all keywords name here \n",
    "    \n",
    "import keyword \n",
    "\n",
    "keywords = keyword.kwlist\n",
    "\n",
    "print(\"\\n The list of all the keywords in Python are : \", \" \\t\" ,\"\\n\" , keywords )\n",
    "print(\"\\n The lenght of this keywords is : \" , \"\\t\" , len(keywords))\n",
    " "
   ]
  },
  {
   "cell_type": "markdown",
   "metadata": {},
   "source": [
    "## Identifiers in Python\n",
    "\n",
    " - Identifiers are the name given to a function , class , variable and etc in python \n",
    " - It is mainly used for to differenciate between one another \n",
    " \n",
    "Rule for writting a identifiers : \n",
    "  \n",
    "  - Identifiers can be a combination of a letter in lower case ( a - z ) and in uppercase (A - Z ) or a digit from ( 0 - 9 ) and under scores( _ ) \n",
    "  - A n identifiers can not be start from an a digit . e.g 1variable is not acceptable but variable1 is accepted\n",
    "  - Keywords can't be used as a identifiers\n",
    "  "
   ]
  },
  {
   "cell_type": "code",
   "execution_count": 10,
   "metadata": {},
   "outputs": [
    {
     "ename": "SyntaxError",
     "evalue": "invalid syntax (<ipython-input-10-1a812518948d>, line 3)",
     "output_type": "error",
     "traceback": [
      "\u001b[1;36m  File \u001b[1;32m\"<ipython-input-10-1a812518948d>\"\u001b[1;36m, line \u001b[1;32m3\u001b[0m\n\u001b[1;33m    1variable = 58\u001b[0m\n\u001b[1;37m            ^\u001b[0m\n\u001b[1;31mSyntaxError\u001b[0m\u001b[1;31m:\u001b[0m invalid syntax\n"
     ]
    }
   ],
   "source": [
    "# e.g : This will show an error\n",
    "\n",
    "1variable = 58\n",
    "print(1variable)"
   ]
  },
  {
   "cell_type": "code",
   "execution_count": 2,
   "metadata": {},
   "outputs": [
    {
     "name": "stdout",
     "output_type": "stream",
     "text": [
      "58\n"
     ]
    }
   ],
   "source": [
    "# This example run perfectly\n",
    "v1ariable = 58\n",
    "print(v1ariable)"
   ]
  },
  {
   "cell_type": "code",
   "execution_count": 3,
   "metadata": {},
   "outputs": [
    {
     "name": "stdout",
     "output_type": "stream",
     "text": [
      "string\n"
     ]
    }
   ],
   "source": [
    "variable_name = \"string\"\n",
    "print(variable_name)"
   ]
  },
  {
   "cell_type": "code",
   "execution_count": null,
   "metadata": {},
   "outputs": [],
   "source": []
  }
 ],
 "metadata": {
  "kernelspec": {
   "display_name": "Python 3",
   "language": "python",
   "name": "python3"
  },
  "language_info": {
   "codemirror_mode": {
    "name": "ipython",
    "version": 3
   },
   "file_extension": ".py",
   "mimetype": "text/x-python",
   "name": "python",
   "nbconvert_exporter": "python",
   "pygments_lexer": "ipython3",
   "version": "3.7.6"
  }
 },
 "nbformat": 4,
 "nbformat_minor": 4
}
