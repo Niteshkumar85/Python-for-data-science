{
 "cells": [
  {
   "cell_type": "markdown",
   "metadata": {},
   "source": [
    "# Variables\n",
    "\n",
    " - A variable is a location in memory used to store some data(value).\n",
    " - They are given a  unique name to differentiate between mwmory location. The rules of writting a variable is same as the rule of identifiers in python.\n",
    " - we don't need to declare a variable before using it. In python , we simply assign a value to a variable and it will exist. We don't ev even have to declare the type of the variable. This is handled internally according to the type of value we assign to the variable"
   ]
  },
  {
   "cell_type": "markdown",
   "metadata": {},
   "source": [
    "# Variable assignment"
   ]
  },
  {
   "cell_type": "code",
   "execution_count": 1,
   "metadata": {},
   "outputs": [],
   "source": [
    "# we use the assignment operator (=) to assign the value to a variable\n",
    "\n",
    "a = 5\n",
    "f = 5.5 \n",
    "c = \"sachin\""
   ]
  },
  {
   "cell_type": "markdown",
   "metadata": {},
   "source": [
    "# Multiple assignment"
   ]
  },
  {
   "cell_type": "code",
   "execution_count": 2,
   "metadata": {},
   "outputs": [],
   "source": [
    "g,h,d = 5,8.0,\"sachin\""
   ]
  },
  {
   "cell_type": "markdown",
   "metadata": {},
   "source": [
    "# Storage Location"
   ]
  },
  {
   "cell_type": "code",
   "execution_count": 3,
   "metadata": {},
   "outputs": [
    {
     "name": "stdout",
     "output_type": "stream",
     "text": [
      "140712109711984\n"
     ]
    }
   ],
   "source": [
    "x = 8 \n",
    "print(id(x)) # Print address of variable x in memory"
   ]
  },
  {
   "cell_type": "code",
   "execution_count": 4,
   "metadata": {},
   "outputs": [
    {
     "name": "stdout",
     "output_type": "stream",
     "text": [
      "140712109711984\n"
     ]
    }
   ],
   "source": [
    "Y = 8\n",
    "print(id(Y)) # Print address of variable Y in memory"
   ]
  },
  {
   "cell_type": "markdown",
   "metadata": {},
   "source": [
    "Observaation : \n",
    "\n",
    "         x and y points to same memory location "
   ]
  },
  {
   "cell_type": "code",
   "execution_count": 5,
   "metadata": {},
   "outputs": [
    {
     "name": "stdout",
     "output_type": "stream",
     "text": [
      "140712109711792\n"
     ]
    }
   ],
   "source": [
    "# if we change the value of y the address value is also changes\n",
    "Y = 2 \n",
    "print(id(Y))"
   ]
  },
  {
   "cell_type": "markdown",
   "metadata": {},
   "source": [
    "# Data type \n",
    "\n",
    " - Every value in a python has an a data type. Since, everything in python is an a object . Actually data types are the classes and variable are the a instance ( Object ) in these language.\n",
    " "
   ]
  },
  {
   "cell_type": "markdown",
   "metadata": {},
   "source": [
    "# Numbers \n",
    "\n",
    "  - Integers , floating points number and complex number are fall under the Python Number Catagories. They are defined as a int , float , complex class in python.\n",
    "  - We can use type() function to know the type of a variable that which class it is belongs too. And isinstance() function is used to check if an object belongs to a particular class"
   ]
  },
  {
   "cell_type": "code",
   "execution_count": 6,
   "metadata": {},
   "outputs": [
    {
     "name": "stdout",
     "output_type": "stream",
     "text": [
      "5  is of type  <class 'int'>\n"
     ]
    }
   ],
   "source": [
    "a = 5             # data type is implicitily set to integer\n",
    "\n",
    "print(a , \" is of type \", type(a))"
   ]
  },
  {
   "cell_type": "code",
   "execution_count": 7,
   "metadata": {},
   "outputs": [
    {
     "name": "stdout",
     "output_type": "stream",
     "text": [
      "2.5  is of type  <class 'float'>\n"
     ]
    }
   ],
   "source": [
    "a = 2.5   # data type is change to float type \n",
    "print(a , \" is of type \" , type(a))"
   ]
  },
  {
   "cell_type": "code",
   "execution_count": 14,
   "metadata": {},
   "outputs": [
    {
     "name": "stdout",
     "output_type": "stream",
     "text": [
      "(1+2j)  is of type  <class 'complex'>\n",
      "True\n"
     ]
    }
   ],
   "source": [
    "a = 1 + 2j            # data type changed to complex number\n",
    "print(a , \" is of type \" , type(a))\n",
    "print(isinstance(a , complex))"
   ]
  },
  {
   "cell_type": "markdown",
   "metadata": {},
   "source": [
    "# Boolean \n",
    "  \n",
    "   - Boolesn represents the truth values False and True\n",
    "   "
   ]
  },
  {
   "cell_type": "code",
   "execution_count": 16,
   "metadata": {},
   "outputs": [
    {
     "name": "stdout",
     "output_type": "stream",
     "text": [
      "True  is of type  <class 'bool'>\n",
      "False  is of type  <class 'bool'>\n"
     ]
    }
   ],
   "source": [
    "a = True \n",
    "b = False            # it is a boolean type\n",
    "print(a , \" is of type \" , type(a))\n",
    "print(b , \" is of type \" , type(b))"
   ]
  },
  {
   "cell_type": "markdown",
   "metadata": {},
   "source": [
    "# Python Strings \n",
    " \n",
    "   - Strings is sequence of Unicode characters.\n",
    "   - We can use single quotes or double quotes to represents strings.\n",
    "   - Multi-line strings can be denoted using triple quoates , ''' or \"\"\".\n",
    "   - A strings in python consists of a series or sequence of charaters - letters , numbers , and special characters.\n",
    "   - Strings can be indexed  -often symultaniously called subscripted as well.\n",
    "   - Similar to C , the first character of a strings has the index 0 . \n",
    "   "
   ]
  },
  {
   "cell_type": "code",
   "execution_count": 2,
   "metadata": {},
   "outputs": [
    {
     "name": "stdout",
     "output_type": "stream",
     "text": [
      "From this side i am sachin omprakash kumawat  :  is of type :  <class 'str'>\n"
     ]
    }
   ],
   "source": [
    "a = 'From this side i am sachin omprakash kumawat'\n",
    "print(a , \" :  is of type : \", type(a))"
   ]
  },
  {
   "cell_type": "code",
   "execution_count": 29,
   "metadata": {},
   "outputs": [
    {
     "name": "stdout",
     "output_type": "stream",
     "text": [
      "F\n"
     ]
    }
   ],
   "source": [
    "print(a[0])\n",
    "# last char a[len(a)-1] or a[-1]"
   ]
  },
  {
   "cell_type": "code",
   "execution_count": 30,
   "metadata": {},
   "outputs": [
    {
     "name": "stdout",
     "output_type": "stream",
     "text": [
      "t\n"
     ]
    }
   ],
   "source": [
    "print(a[-1])"
   ]
  },
  {
   "cell_type": "code",
   "execution_count": 25,
   "metadata": {},
   "outputs": [],
   "source": [
    "# multi line string\n",
    "f = '''there are the man and the women\n",
    "who are enjoying a day in a beach '''"
   ]
  },
  {
   "cell_type": "code",
   "execution_count": 26,
   "metadata": {},
   "outputs": [
    {
     "name": "stdout",
     "output_type": "stream",
     "text": [
      "there are the man and the women\n",
      "who are enjoying a day in a beach \n"
     ]
    }
   ],
   "source": [
    "print(f)"
   ]
  },
  {
   "cell_type": "markdown",
   "metadata": {},
   "source": [
    "# Python List\n",
    "\n",
    "   - List is an a ordered sequence of item. It is one of the most useable data type in python and it is very flexible. All the item in the list do not to be the same data type.\n",
    "   - Declaring the list is \" , \" that the item present in the list is comma seperated within the square brackets."
   ]
  },
  {
   "cell_type": "code",
   "execution_count": 32,
   "metadata": {},
   "outputs": [
    {
     "name": "stdout",
     "output_type": "stream",
     "text": [
      "[1, 2.5, 'sachin', (1+2j)]  : is of type :  <class 'list'>\n",
      "[1, 2.5, 'sachin', (1+2j)]  Lenght of a list is  4\n"
     ]
    }
   ],
   "source": [
    "# this is how the python list is represented\n",
    "a = [ 1 , 2.5 , \"sachin\" , 1 + 2j ]\n",
    "print(a , \" : is of type : \", type(a))\n",
    "print(a, \" Lenght of a list is \" ,len(a))"
   ]
  },
  {
   "cell_type": "markdown",
   "metadata": {},
   "source": [
    "List are mutable, means the value in a list is replaced by any other number whenever we have requirements"
   ]
  },
  {
   "cell_type": "code",
   "execution_count": 35,
   "metadata": {
    "scrolled": true
   },
   "outputs": [
    {
     "name": "stdout",
     "output_type": "stream",
     "text": [
      "1\n"
     ]
    }
   ],
   "source": [
    "print(a[0])"
   ]
  },
  {
   "cell_type": "code",
   "execution_count": 36,
   "metadata": {},
   "outputs": [
    {
     "name": "stdout",
     "output_type": "stream",
     "text": [
      "[1, 5.2, 'sachin', (1+2j)]\n"
     ]
    }
   ],
   "source": [
    "a[1] = 5.2\n",
    "print(a)"
   ]
  },
  {
   "cell_type": "markdown",
   "metadata": {},
   "source": [
    "# Python Tuples\n",
    " \n",
    "   - Tuples are the ordered sequence of an a item same as a list. The only difference is that the tuples are immutable, that mean whenewer the tuples is created it cannot be changes."
   ]
  },
  {
   "cell_type": "code",
   "execution_count": 37,
   "metadata": {},
   "outputs": [],
   "source": [
    "a = (2 , 2.5 , \"sachin\" , 1 + 2j )"
   ]
  },
  {
   "cell_type": "code",
   "execution_count": 38,
   "metadata": {},
   "outputs": [
    {
     "name": "stdout",
     "output_type": "stream",
     "text": [
      "(2, 2.5, 'sachin', (1+2j))  is of type  <class 'tuple'>\n"
     ]
    }
   ],
   "source": [
    "print(a , \" is of type \" , type(a))"
   ]
  },
  {
   "cell_type": "code",
   "execution_count": 41,
   "metadata": {},
   "outputs": [
    {
     "ename": "TypeError",
     "evalue": "'tuple' object does not support item assignment",
     "output_type": "error",
     "traceback": [
      "\u001b[1;31m---------------------------------------------------------------------------\u001b[0m",
      "\u001b[1;31mTypeError\u001b[0m                                 Traceback (most recent call last)",
      "\u001b[1;32m<ipython-input-41-a0f0b1a09ba8>\u001b[0m in \u001b[0;36m<module>\u001b[1;34m\u001b[0m\n\u001b[1;32m----> 1\u001b[1;33m \u001b[0ma\u001b[0m\u001b[1;33m[\u001b[0m\u001b[1;36m1\u001b[0m\u001b[1;33m]\u001b[0m \u001b[1;33m=\u001b[0m \u001b[1;36m3.5\u001b[0m   \u001b[1;31m# we cannot modified a value in a tuple\u001b[0m\u001b[1;33m\u001b[0m\u001b[1;33m\u001b[0m\u001b[0m\n\u001b[0m",
      "\u001b[1;31mTypeError\u001b[0m: 'tuple' object does not support item assignment"
     ]
    }
   ],
   "source": [
    "a[1] = 3.5   # we cannot modified a value in a tuple"
   ]
  },
  {
   "cell_type": "markdown",
   "metadata": {},
   "source": [
    " # Python Set\n",
    "  \n",
    "   - Set is an a unordered collection of a unique item. Set is defined by the comma seperated value inside the braces \" {} \" .  Item in a set are not ordered"
   ]
  },
  {
   "cell_type": "code",
   "execution_count": 44,
   "metadata": {},
   "outputs": [
    {
     "name": "stdout",
     "output_type": "stream",
     "text": [
      "{40, 10, 80, 20, 30}  :- Is of type :-  <class 'set'>\n"
     ]
    }
   ],
   "source": [
    "s = { 10 , 20 , 80 , 30 , 40 }\n",
    "print( s , \" :- Is of type :- \" , type(s))"
   ]
  },
  {
   "cell_type": "markdown",
   "metadata": {},
   "source": [
    "We can perform set operation like union , intersection on two sets , set have a unique value"
   ]
  },
  {
   "cell_type": "code",
   "execution_count": 45,
   "metadata": {},
   "outputs": [
    {
     "name": "stdout",
     "output_type": "stream",
     "text": [
      "{10, 20, 30}\n"
     ]
    }
   ],
   "source": [
    "sets = { 10 , 20 , 20 , 30 , 30 , 30 }\n",
    "print(sets)                # its is automatically only take a unique value not a duplicate value"
   ]
  },
  {
   "cell_type": "code",
   "execution_count": 48,
   "metadata": {},
   "outputs": [
    {
     "ename": "TypeError",
     "evalue": "'set' object is not subscriptable",
     "output_type": "error",
     "traceback": [
      "\u001b[1;31m---------------------------------------------------------------------------\u001b[0m",
      "\u001b[1;31mTypeError\u001b[0m                                 Traceback (most recent call last)",
      "\u001b[1;32m<ipython-input-48-474de4e53512>\u001b[0m in \u001b[0;36m<module>\u001b[1;34m\u001b[0m\n\u001b[1;32m----> 1\u001b[1;33m \u001b[0mprint\u001b[0m\u001b[1;33m(\u001b[0m\u001b[0msets\u001b[0m\u001b[1;33m[\u001b[0m\u001b[1;36m1\u001b[0m\u001b[1;33m]\u001b[0m\u001b[1;33m)\u001b[0m\u001b[1;33m\u001b[0m\u001b[1;33m\u001b[0m\u001b[0m\n\u001b[0m",
      "\u001b[1;31mTypeError\u001b[0m: 'set' object is not subscriptable"
     ]
    }
   ],
   "source": [
    "print(sets[1])"
   ]
  },
  {
   "cell_type": "markdown",
   "metadata": {},
   "source": [
    "# Python Dictionaries\n",
    "\n",
    "  - Dictionaries are the unordered collection of key-value pair.\n",
    "  \n",
    "  - In python the dictionaries are represented within a curly braces \" {} \" . Where each item in dictionaries are key value pairs .\n",
    "  "
   ]
  },
  {
   "cell_type": "code",
   "execution_count": 50,
   "metadata": {},
   "outputs": [
    {
     "name": "stdout",
     "output_type": "stream",
     "text": [
      "{'key1': 25, 'key2': 32.2, 'key3': 'sachin'}  :- Is of type :-  <class 'dict'>\n"
     ]
    }
   ],
   "source": [
    "d = { 'key1' : 25 , 'key2' : 32.2 , 'key3' : \"sachin\"}\n",
    "print(d , \" :- Is of type :- \" , type(d))"
   ]
  },
  {
   "cell_type": "code",
   "execution_count": 54,
   "metadata": {},
   "outputs": [
    {
     "name": "stdout",
     "output_type": "stream",
     "text": [
      "sachin\n"
     ]
    }
   ],
   "source": [
    "print(d['key3'])"
   ]
  },
  {
   "cell_type": "markdown",
   "metadata": {},
   "source": [
    "# Conversion between Data Type\n",
    "\n",
    "    - We can convert different data type into a different data type by using following function like int() , float() , str() , etc"
   ]
  },
  {
   "cell_type": "code",
   "execution_count": 55,
   "metadata": {},
   "outputs": [
    {
     "data": {
      "text/plain": [
       "5.0"
      ]
     },
     "execution_count": 55,
     "metadata": {},
     "output_type": "execute_result"
    }
   ],
   "source": [
    "float(5) # it converts the integer value into a float value"
   ]
  },
  {
   "cell_type": "code",
   "execution_count": 56,
   "metadata": {},
   "outputs": [
    {
     "data": {
      "text/plain": [
       "20"
      ]
     },
     "execution_count": 56,
     "metadata": {},
     "output_type": "execute_result"
    }
   ],
   "source": [
    "int(20.5)   # it converts the float value into a integer value"
   ]
  },
  {
   "cell_type": "code",
   "execution_count": 57,
   "metadata": {},
   "outputs": [
    {
     "data": {
      "text/plain": [
       "'56'"
      ]
     },
     "execution_count": 57,
     "metadata": {},
     "output_type": "execute_result"
    }
   ],
   "source": [
    "str(56)  # it converts the integer value into  a string vallue"
   ]
  },
  {
   "cell_type": "code",
   "execution_count": 59,
   "metadata": {},
   "outputs": [
    {
     "name": "stdout",
     "output_type": "stream",
     "text": [
      "<class 'list'>\n",
      "<class 'set'>\n"
     ]
    }
   ],
   "source": [
    "v = [1 , 2 , 30 , 50 , 80]\n",
    "print(type(v))\n",
    "v = set(v)\n",
    "print(type(v))\n"
   ]
  },
  {
   "cell_type": "code",
   "execution_count": 60,
   "metadata": {},
   "outputs": [
    {
     "name": "stdout",
     "output_type": "stream",
     "text": [
      "Hello\n",
      "['H', 'e', 'l', 'l', 'o']\n"
     ]
    }
   ],
   "source": [
    "m = \"Hello\"\n",
    "print(m)\n",
    "h = list(m)\n",
    "print(h)"
   ]
  },
  {
   "cell_type": "code",
   "execution_count": null,
   "metadata": {},
   "outputs": [],
   "source": []
  }
 ],
 "metadata": {
  "kernelspec": {
   "display_name": "Python 3",
   "language": "python",
   "name": "python3"
  },
  "language_info": {
   "codemirror_mode": {
    "name": "ipython",
    "version": 3
   },
   "file_extension": ".py",
   "mimetype": "text/x-python",
   "name": "python",
   "nbconvert_exporter": "python",
   "pygments_lexer": "ipython3",
   "version": "3.7.6"
  }
 },
 "nbformat": 4,
 "nbformat_minor": 4
}
