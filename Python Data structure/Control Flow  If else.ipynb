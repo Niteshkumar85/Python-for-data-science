{
 "cells": [
  {
   "cell_type": "markdown",
   "metadata": {},
   "source": [
    " # Python : If else statement\n",
    " \n",
    "    - The if...elif..else statement are used in python for decision making.\n",
    "    \n",
    "    - If statment Syntax : \n",
    "    \n",
    "    if i in key:\n",
    "        print any statment or any condition\n",
    "    elif:\n",
    "        print another condition\n",
    "    else:\n",
    "        print the default value"
   ]
  },
  {
   "cell_type": "code",
   "execution_count": 1,
   "metadata": {},
   "outputs": [
    {
     "name": "stdout",
     "output_type": "stream",
     "text": [
      "the number you entered is less than a or equal to a\n"
     ]
    }
   ],
   "source": [
    "a = 10  # Take any value \n",
    "\n",
    "if a > 10 :\n",
    "    print(\"The number you enter is grater than a\")\n",
    "    \n",
    "print(\"the number you entered is less than a or equal to a\")"
   ]
  },
  {
   "cell_type": "code",
   "execution_count": 5,
   "metadata": {},
   "outputs": [
    {
     "name": "stdout",
     "output_type": "stream",
     "text": [
      " the value entered by you is not satisfying your condition\n"
     ]
    }
   ],
   "source": [
    "# Now by using if elif and else statment\n",
    "a = 10\n",
    "b = 20\n",
    "\n",
    "if a == b :\n",
    "    print(\" the value entered by you is equal to a\")\n",
    "elif a > b :\n",
    "    print(\" the value entered by you is greater than b\")\n",
    "else :\n",
    "    print(\" the value entered by you is not satisfying your condition\")"
   ]
  },
  {
   "cell_type": "markdown",
   "metadata": {},
   "source": [
    "# Python Progran to find the largest number from the given input:"
   ]
  },
  {
   "cell_type": "code",
   "execution_count": 3,
   "metadata": {},
   "outputs": [
    {
     "name": "stdout",
     "output_type": "stream",
     "text": [
      "enter the number 1 :66\n",
      "enter the number  2:55\n",
      "enter the number 3 :6\n",
      "Largest number among the three is : 66\n"
     ]
    }
   ],
   "source": [
    "a = int(input(\"enter the number 1 :\"))\n",
    "b = int(input(\"enter the number  2:\"))\n",
    "c = int(input(\"enter the number 3 :\"))\n",
    "\n",
    "if (a >= b) and (a >= c):\n",
    "    largest = a\n",
    "elif (b >= a) and (b >= c):\n",
    "    largest = b\n",
    "else :\n",
    "    largest = c\n",
    "    \n",
    "print(\"Largest number among the three is : {}\".format(largest))"
   ]
  },
  {
   "cell_type": "code",
   "execution_count": null,
   "metadata": {},
   "outputs": [],
   "source": []
  }
 ],
 "metadata": {
  "kernelspec": {
   "display_name": "Python 3",
   "language": "python",
   "name": "python3"
  },
  "language_info": {
   "codemirror_mode": {
    "name": "ipython",
    "version": 3
   },
   "file_extension": ".py",
   "mimetype": "text/x-python",
   "name": "python",
   "nbconvert_exporter": "python",
   "pygments_lexer": "ipython3",
   "version": "3.7.6"
  }
 },
 "nbformat": 4,
 "nbformat_minor": 4
}
