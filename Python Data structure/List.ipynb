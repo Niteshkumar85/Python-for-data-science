{
 "cells": [
  {
   "cell_type": "markdown",
   "metadata": {},
   "source": [
    "# List\n",
    "\n",
    "Data structure :\n",
    "\n",
    "Data structure is a collection of a data elements ( such as number , character - or even other data structure ) that is structured in some way . For example nubering the elements the most basic data structure in python is the sequence . \n",
    "\n",
    "    - list is one of the sequence data structure\n",
    "    - list are collection of the item ( string , integers or even other list)\n",
    "    - list is enclosed in [] brackets\n",
    "    - Each item in the list is assigned a index value\n",
    "    - Each item in a list is separated by a comma\n",
    "    - list are mutable "
   ]
  },
  {
   "cell_type": "markdown",
   "metadata": {},
   "source": [
    "# list creation\n"
   ]
  },
  {
   "cell_type": "code",
   "execution_count": 2,
   "metadata": {},
   "outputs": [],
   "source": [
    "empty_list = []"
   ]
  },
  {
   "cell_type": "code",
   "execution_count": 3,
   "metadata": {},
   "outputs": [],
   "source": [
    "l1 = [\"sachin\" , \"Rahul\" , \"Shubham\"]    # list containing some string elements"
   ]
  },
  {
   "cell_type": "code",
   "execution_count": 4,
   "metadata": {},
   "outputs": [],
   "source": [
    "l2 = [ 1 , 2 , 3 , 4 , 5 , 6]      # list containing some integers value in it"
   ]
  },
  {
   "cell_type": "code",
   "execution_count": 5,
   "metadata": {},
   "outputs": [],
   "source": [
    "l3 = [[1 , 2 ], [ 3, 4 , 5]]     # list of list"
   ]
  },
  {
   "cell_type": "code",
   "execution_count": 6,
   "metadata": {},
   "outputs": [],
   "source": [
    "l4 = [ \"s\" , 3 , 2.5 , 1 + 2j]            # list of differents data types"
   ]
  },
  {
   "cell_type": "markdown",
   "metadata": {},
   "source": [
    "# length of list :"
   ]
  },
  {
   "cell_type": "code",
   "execution_count": 7,
   "metadata": {},
   "outputs": [
    {
     "name": "stdout",
     "output_type": "stream",
     "text": [
      "6\n"
     ]
    }
   ],
   "source": [
    "print(len(l2))"
   ]
  },
  {
   "cell_type": "markdown",
   "metadata": {},
   "source": [
    "# list append"
   ]
  },
  {
   "cell_type": "code",
   "execution_count": 9,
   "metadata": {},
   "outputs": [],
   "source": [
    "# if i have to add any number or value in a list the append fuction is used\n",
    "\n",
    "l2 = [ 1 , 2 , 3 , 4 , 5 , 6] \n",
    "\n",
    "# now for add a value in a list we are using the append fuction\n",
    "\n",
    "l2.append(\"sachin\")"
   ]
  },
  {
   "cell_type": "code",
   "execution_count": 10,
   "metadata": {},
   "outputs": [
    {
     "name": "stdout",
     "output_type": "stream",
     "text": [
      "[1, 2, 3, 4, 5, 6, 'sachin']\n"
     ]
    }
   ],
   "source": [
    "print(l2)"
   ]
  },
  {
   "cell_type": "markdown",
   "metadata": {},
   "source": [
    "# list insert"
   ]
  },
  {
   "cell_type": "code",
   "execution_count": 11,
   "metadata": {},
   "outputs": [
    {
     "name": "stdout",
     "output_type": "stream",
     "text": [
      "[1, 2, 3, 'three', 4, 5, 6]\n"
     ]
    }
   ],
   "source": [
    "# if i have to put a certain value on a certain place or indexing position\n",
    "l2 = [ 1 , 2 , 3 , 4 , 5 , 6] \n",
    "\n",
    "# if i have to add a string value onn position 3 ot that may be an any position or any data type\n",
    "l2.insert(3 , \"three\")\n",
    "\n",
    "print(l2)"
   ]
  },
  {
   "cell_type": "markdown",
   "metadata": {},
   "source": [
    "# list remove"
   ]
  },
  {
   "cell_type": "code",
   "execution_count": 15,
   "metadata": {},
   "outputs": [],
   "source": [
    "# it is used to remove the element from the list but it remove the first occerance of a same value in a list\n",
    "\n",
    "l7 = [1, 2, 3, 4, 5, 6, 'sachin']   # for example if i havr to remove 6 from the list\n",
    "\n",
    "l7.remove(6)"
   ]
  },
  {
   "cell_type": "code",
   "execution_count": 16,
   "metadata": {},
   "outputs": [
    {
     "name": "stdout",
     "output_type": "stream",
     "text": [
      "[1, 2, 3, 4, 5, 'sachin']\n"
     ]
    }
   ],
   "source": [
    "print(l7)"
   ]
  },
  {
   "cell_type": "markdown",
   "metadata": {},
   "source": [
    "# list append and extend"
   ]
  },
  {
   "cell_type": "code",
   "execution_count": 17,
   "metadata": {},
   "outputs": [
    {
     "name": "stdout",
     "output_type": "stream",
     "text": [
      "[1, 2, 3, 4, 5, 6, 'sachin', ['s', 3, 2.5, (1+2j)]]\n"
     ]
    }
   ],
   "source": [
    "l8 = [1, 2, 3, 4, 5, 6, 'sachin']\n",
    "l9 = [ \"s\" , 3 , 2.5 , 1 + 2j] \n",
    "\n",
    "l8.append(l9)  # here we get a kown about the how append function is used in the adding of two lsit\n",
    "\n",
    "print(l8)\n"
   ]
  },
  {
   "cell_type": "code",
   "execution_count": 18,
   "metadata": {},
   "outputs": [
    {
     "name": "stdout",
     "output_type": "stream",
     "text": [
      "[1, 2, 3, 4, 5, 6, 'sachin', 's', 3, 2.5, (1+2j)]\n"
     ]
    }
   ],
   "source": [
    "l8 = [1, 2, 3, 4, 5, 6, 'sachin']\n",
    "l9 = [ \"s\" , 3 , 2.5 , 1 + 2j] \n",
    "\n",
    "l8.extend(l9)  # here we get a kown about the how extend function is used in the adding of two lsit\n",
    "\n",
    "print(l8)"
   ]
  },
  {
   "cell_type": "markdown",
   "metadata": {},
   "source": [
    "# list Delete"
   ]
  },
  {
   "cell_type": "code",
   "execution_count": 20,
   "metadata": {},
   "outputs": [
    {
     "name": "stdout",
     "output_type": "stream",
     "text": [
      "[1, 2, 3, 4, 5, 6]\n"
     ]
    }
   ],
   "source": [
    "l8 = [1, 2, 3, 4, 5, 6, 'sachin']\n",
    "\n",
    "# for to delete the elements from the list we use delete function\n",
    "\n",
    "del l8[6]\n",
    "\n",
    "print(l8)"
   ]
  },
  {
   "cell_type": "code",
   "execution_count": 22,
   "metadata": {},
   "outputs": [],
   "source": [
    "a = l8.pop(1)"
   ]
  },
  {
   "cell_type": "code",
   "execution_count": 24,
   "metadata": {},
   "outputs": [
    {
     "name": "stdout",
     "output_type": "stream",
     "text": [
      "[1, 3, 4, 5, 6]\n"
     ]
    }
   ],
   "source": [
    "print(l8)"
   ]
  },
  {
   "cell_type": "markdown",
   "metadata": {},
   "source": [
    "# list related keywords in python"
   ]
  },
  {
   "cell_type": "code",
   "execution_count": 26,
   "metadata": {},
   "outputs": [
    {
     "name": "stdout",
     "output_type": "stream",
     "text": [
      "yes it is present\n"
     ]
    }
   ],
   "source": [
    "# keyword \" in \" is used to detect the elements is presents in a list .\n",
    "\n",
    "l8 = [1, 2, 3, 4, 5, 6, 'sachin']\n",
    "\n",
    "if 'sachin' in l8:\n",
    "    print(\"yes it is present\")\n",
    "    \n",
    "# keyword \" not \" combine with keyword \" in \"\n",
    "\n",
    "if 6 not in l8:\n",
    "    print(\"it is not in list\")"
   ]
  },
  {
   "cell_type": "markdown",
   "metadata": {},
   "source": [
    "# list reverse"
   ]
  },
  {
   "cell_type": "code",
   "execution_count": 27,
   "metadata": {},
   "outputs": [
    {
     "name": "stdout",
     "output_type": "stream",
     "text": [
      "['sachin', 6, 5, 4, 3, 2, 1]\n"
     ]
    }
   ],
   "source": [
    "# for to reverse the list\n",
    "\n",
    "l8 = [1, 2, 3, 4, 5, 6, 'sachin']\n",
    "\n",
    "l8.reverse()\n",
    "\n",
    "print(l8)"
   ]
  },
  {
   "cell_type": "markdown",
   "metadata": {},
   "source": [
    "# list sorting"
   ]
  },
  {
   "cell_type": "code",
   "execution_count": 29,
   "metadata": {},
   "outputs": [
    {
     "name": "stdout",
     "output_type": "stream",
     "text": [
      " \n",
      "unsorted list  : [2, 5, 6, 1, 3, 8, 7, 9]\n",
      " \n",
      "sorted list :  [1, 2, 3, 5, 6, 7, 8, 9]\n"
     ]
    }
   ],
   "source": [
    "n = [ 2 , 5 , 6 , 1 , 3, 8, 7 , 9]\n",
    "\n",
    "sorted_list = sorted(n)\n",
    "\n",
    "print(\" \\nunsorted list  :\" , n)\n",
    "\n",
    "print( \" \\nsorted list : \" , sorted_list)"
   ]
  },
  {
   "cell_type": "code",
   "execution_count": 31,
   "metadata": {},
   "outputs": [
    {
     "name": "stdout",
     "output_type": "stream",
     "text": [
      "\n",
      " reverse of sorted  list is :  [9, 8, 7, 6, 5, 3, 2, 1]\n"
     ]
    }
   ],
   "source": [
    "# if i have to reverse the elements presents in a sorted list\n",
    "r = sorted(n , reverse = True)\n",
    "print(\"\\n reverse of sorted  list is : \" , r )"
   ]
  },
  {
   "cell_type": "markdown",
   "metadata": {},
   "source": [
    "# String split to create a list "
   ]
  },
  {
   "cell_type": "code",
   "execution_count": 33,
   "metadata": {},
   "outputs": [
    {
     "name": "stdout",
     "output_type": "stream",
     "text": [
      "the splited list is :  [' sachin ', ' one ', ' two ', ' three ', ' four ', ' five']\n"
     ]
    }
   ],
   "source": [
    "st = \" sachin , one , two , three , four , five\"\n",
    "\n",
    "new = st.split(',')\n",
    "\n",
    "print(\"the splited list is : \" , new)"
   ]
  },
  {
   "cell_type": "markdown",
   "metadata": {},
   "source": [
    "# list indexing"
   ]
  },
  {
   "cell_type": "code",
   "execution_count": 34,
   "metadata": {},
   "outputs": [
    {
     "name": "stdout",
     "output_type": "stream",
     "text": [
      "5\n"
     ]
    }
   ],
   "source": [
    "n = [ 2 , 5 , 6 , 1 , 3, 8, 7 , 9]\n",
    "\n",
    "# print second element from the list\n",
    "\n",
    "print(n[1])\n",
    "\n"
   ]
  },
  {
   "cell_type": "code",
   "execution_count": 35,
   "metadata": {},
   "outputs": [
    {
     "name": "stdout",
     "output_type": "stream",
     "text": [
      "9\n"
     ]
    }
   ],
   "source": [
    "# print the last number from the list using negative indexing\n",
    "\n",
    "print(n[-1])\n"
   ]
  },
  {
   "cell_type": "markdown",
   "metadata": {},
   "source": [
    "# list slicing"
   ]
  },
  {
   "cell_type": "code",
   "execution_count": 36,
   "metadata": {},
   "outputs": [
    {
     "name": "stdout",
     "output_type": "stream",
     "text": [
      "[2, 5, 6, 1, 3, 8, 7, 9]\n"
     ]
    }
   ],
   "source": [
    "n = [ 2 , 5 , 6 , 1 , 3, 8, 7 , 9]\n",
    "\n",
    "# if i have to print all the number from the list by using slicing\n",
    "print(n[:])"
   ]
  },
  {
   "cell_type": "code",
   "execution_count": 38,
   "metadata": {},
   "outputs": [
    {
     "name": "stdout",
     "output_type": "stream",
     "text": [
      "[2, 5, 6, 1]\n"
     ]
    }
   ],
   "source": [
    "# print the number from index from 0 to 3 by using slicing\n",
    "\n",
    "print(n[0:4])"
   ]
  },
  {
   "cell_type": "code",
   "execution_count": 39,
   "metadata": {},
   "outputs": [
    {
     "name": "stdout",
     "output_type": "stream",
     "text": [
      "[2, 6, 3, 7]\n"
     ]
    }
   ],
   "source": [
    "# print alternative number from the list by using slicing\n",
    "\n",
    "print(n[::2])"
   ]
  },
  {
   "cell_type": "code",
   "execution_count": 40,
   "metadata": {},
   "outputs": [
    {
     "name": "stdout",
     "output_type": "stream",
     "text": [
      "[6, 3, 7]\n"
     ]
    }
   ],
   "source": [
    "# print the number start from the 0 through rest of all the list\n",
    "\n",
    "print(n[2::2])"
   ]
  },
  {
   "cell_type": "markdown",
   "metadata": {},
   "source": [
    "# list extend using \" + \""
   ]
  },
  {
   "cell_type": "code",
   "execution_count": 41,
   "metadata": {},
   "outputs": [
    {
     "name": "stdout",
     "output_type": "stream",
     "text": [
      "[2, 5, 6, 1, 6, 3, 7]\n"
     ]
    }
   ],
   "source": [
    "de = [2, 5, 6, 1]\n",
    "gf = [6, 3, 7]\n",
    "\n",
    "# for to add two list we can use \" + \"\n",
    "\n",
    "gh = de + gf\n",
    "\n",
    "print(gh)"
   ]
  },
  {
   "cell_type": "markdown",
   "metadata": {},
   "source": [
    "# List Count "
   ]
  },
  {
   "cell_type": "code",
   "execution_count": 45,
   "metadata": {},
   "outputs": [
    {
     "name": "stdout",
     "output_type": "stream",
     "text": [
      "4\n"
     ]
    }
   ],
   "source": [
    "number = [2, 5, 6, 1, 3, 8, 7, 9 , 2 , 1 , 2 , 1, 3 , 2]\n",
    "\n",
    "# for to count the same number or elements in the list \n",
    "\n",
    "j = number.count(2 )\n",
    "\n",
    "print(j)"
   ]
  },
  {
   "cell_type": "markdown",
   "metadata": {},
   "source": [
    "# List Looping"
   ]
  },
  {
   "cell_type": "code",
   "execution_count": 46,
   "metadata": {},
   "outputs": [
    {
     "name": "stdout",
     "output_type": "stream",
     "text": [
      " sachin \n",
      " one \n",
      " two \n",
      " three \n",
      " four\n"
     ]
    }
   ],
   "source": [
    "lis = [ \" sachin \" , \" one \" , \" two \" , ' three ' , \" four\"]\n",
    "\n",
    "for i in lis:\n",
    "    print(i)"
   ]
  },
  {
   "cell_type": "markdown",
   "metadata": {},
   "source": [
    "# list comprehension\n",
    "\n",
    "    - list comprehension provides the consice way to create a list"
   ]
  },
  {
   "cell_type": "code",
   "execution_count": 47,
   "metadata": {},
   "outputs": [
    {
     "name": "stdout",
     "output_type": "stream",
     "text": [
      "[0, 1, 4, 9, 16, 25, 36, 49, 64, 81, 100]\n"
     ]
    }
   ],
   "source": [
    "# without using list comprehension\n",
    "\n",
    "list1 = []\n",
    "\n",
    "for i in range(11):\n",
    "    list1.append(i**2)\n",
    "    \n",
    "print(list1)"
   ]
  },
  {
   "cell_type": "code",
   "execution_count": 48,
   "metadata": {},
   "outputs": [],
   "source": [
    "# By using list comprehension\n",
    "\n",
    "list1 = [i ** 2 for i in range(11)]"
   ]
  },
  {
   "cell_type": "code",
   "execution_count": 49,
   "metadata": {},
   "outputs": [
    {
     "name": "stdout",
     "output_type": "stream",
     "text": [
      "[0, 1, 4, 9, 16, 25, 36, 49, 64, 81, 100]\n"
     ]
    }
   ],
   "source": [
    "print(list1)"
   ]
  },
  {
   "cell_type": "code",
   "execution_count": 50,
   "metadata": {},
   "outputs": [
    {
     "name": "stdout",
     "output_type": "stream",
     "text": [
      "[0, 2, 8, 18, 32, 50, 72, 98, 128, 162, 200]\n"
     ]
    }
   ],
   "source": [
    "# example 2 \n",
    "\n",
    "l = [0, 1, 4, 9, 16, 25, 36, 49, 64, 81, 100]\n",
    "\n",
    "j = [i + i for i in l]\n",
    "\n",
    "print(j)\n"
   ]
  },
  {
   "cell_type": "markdown",
   "metadata": {},
   "source": [
    "# Nested list comprehension"
   ]
  },
  {
   "cell_type": "code",
   "execution_count": 62,
   "metadata": {},
   "outputs": [
    {
     "name": "stdout",
     "output_type": "stream",
     "text": [
      "[[1, 4, 7], [2, 5, 8], [3, 6, 9], [4, 7, 7]]\n"
     ]
    }
   ],
   "source": [
    "a = [\n",
    "    [1 , 2 , 3 ,4],\n",
    "    [4 ,5 , 6 , 7],\n",
    "    [7, 8, 9 ,7]\n",
    "]\n",
    "\n",
    "transposed = []\n",
    "\n",
    "for i in range(4):\n",
    "    lit = []\n",
    "    for row in a:\n",
    "        lit.append(row[i])\n",
    "    transposed.append(lit)\n",
    "    \n",
    "print(transposed)"
   ]
  },
  {
   "cell_type": "code",
   "execution_count": 63,
   "metadata": {},
   "outputs": [],
   "source": [
    "transposed = [[row[i] for row in a] for i in range(4) ]"
   ]
  },
  {
   "cell_type": "code",
   "execution_count": 64,
   "metadata": {},
   "outputs": [
    {
     "name": "stdout",
     "output_type": "stream",
     "text": [
      "[[1, 4, 7], [2, 5, 8], [3, 6, 9], [4, 7, 7]]\n"
     ]
    }
   ],
   "source": [
    "print(transposed)"
   ]
  },
  {
   "cell_type": "code",
   "execution_count": null,
   "metadata": {},
   "outputs": [],
   "source": []
  }
 ],
 "metadata": {
  "kernelspec": {
   "display_name": "Python 3",
   "language": "python",
   "name": "python3"
  },
  "language_info": {
   "codemirror_mode": {
    "name": "ipython",
    "version": 3
   },
   "file_extension": ".py",
   "mimetype": "text/x-python",
   "name": "python",
   "nbconvert_exporter": "python",
   "pygments_lexer": "ipython3",
   "version": "3.7.6"
  }
 },
 "nbformat": 4,
 "nbformat_minor": 4
}
