{
 "cells": [
  {
   "cell_type": "markdown",
   "metadata": {},
   "source": [
    "#  Python While Loop\n",
    "\n",
    "    - While is used in python to iterate over a block of code till the condition become true.\n",
    "    \n",
    "   # Syntax : \n",
    "   \n",
    "      - while coondition :\n",
    "            iterative condition:\n",
    "                statments"
   ]
  },
  {
   "cell_type": "code",
   "execution_count": 3,
   "metadata": {},
   "outputs": [
    {
     "name": "stdout",
     "output_type": "stream",
     "text": [
      "The multiplication of the number in the list l is : 24000000\n"
     ]
    }
   ],
   "source": [
    "l = [10 , 20 , 50 , 80 , 30 ]\n",
    "\n",
    "product = 1\n",
    "index = 0\n",
    "\n",
    "while index < len(l):\n",
    "    product *= l[index]\n",
    "    index += 1\n",
    "\n",
    "print(\"The multiplication of the number in the list l is : {}\".format(product))"
   ]
  },
  {
   "cell_type": "markdown",
   "metadata": {},
   "source": [
    "# Python program to check weather the given number is prime     \n",
    "# or Not"
   ]
  },
  {
   "cell_type": "code",
   "execution_count": 5,
   "metadata": {},
   "outputs": [
    {
     "name": "stdout",
     "output_type": "stream",
     "text": [
      "Enter the number : 16\n",
      "16 the number is divisible by 2 \n",
      "16 the number is divisible by 4 \n",
      "16 the number is divisible by 8 \n",
      "16 it is not a prime number\n"
     ]
    }
   ],
   "source": [
    "i = int(input(\"Enter the number : \"))\n",
    "\n",
    "isDivisible = False\n",
    "\n",
    "v = 2\n",
    "\n",
    "while v < i : \n",
    "    if i % v == 0:\n",
    "        isDivisible = True\n",
    "        print(\"{} the number is divisible by {} \".format(i , v))\n",
    "    v += 1\n",
    "    \n",
    "if isDivisible:\n",
    "    print(\"{} it is not a prime number\".format(i))\n",
    "else:\n",
    "    print(\"{} it is a Prime number\".format(i))"
   ]
  },
  {
   "cell_type": "code",
   "execution_count": null,
   "metadata": {},
   "outputs": [],
   "source": []
  }
 ],
 "metadata": {
  "kernelspec": {
   "display_name": "Python 3",
   "language": "python",
   "name": "python3"
  },
  "language_info": {
   "codemirror_mode": {
    "name": "ipython",
    "version": 3
   },
   "file_extension": ".py",
   "mimetype": "text/x-python",
   "name": "python",
   "nbconvert_exporter": "python",
   "pygments_lexer": "ipython3",
   "version": "3.7.6"
  }
 },
 "nbformat": 4,
 "nbformat_minor": 4
}
